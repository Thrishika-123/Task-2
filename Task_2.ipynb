{
  "nbformat": 4,
  "nbformat_minor": 0,
  "metadata": {
    "colab": {
      "provenance": [],
      "authorship_tag": "ABX9TyOopLHs8eYaJjtMegGa4Ly5",
      "include_colab_link": true
    },
    "kernelspec": {
      "name": "python3",
      "display_name": "Python 3"
    },
    "language_info": {
      "name": "python"
    }
  },
  "cells": [
    {
      "cell_type": "markdown",
      "metadata": {
        "id": "view-in-github",
        "colab_type": "text"
      },
      "source": [
        "<a href=\"https://colab.research.google.com/github/Thrishika-123/Task-2/blob/main/Task_2.ipynb\" target=\"_parent\"><img src=\"https://colab.research.google.com/assets/colab-badge.svg\" alt=\"Open In Colab\"/></a>"
      ]
    },
    {
      "cell_type": "markdown",
      "source": [
        "Hardcoding variables"
      ],
      "metadata": {
        "id": "0GakkzTIP1wf"
      }
    },
    {
      "cell_type": "code",
      "execution_count": 1,
      "metadata": {
        "colab": {
          "base_uri": "https://localhost:8080/"
        },
        "id": "7YWuJfPLMDQ5",
        "outputId": "1a247012-4a2d-4123-bc25-73c36d879698"
      },
      "outputs": [
        {
          "output_type": "stream",
          "name": "stdout",
          "text": [
            "Hardcoding Variables: The sum of 10 and 20 is 30\n"
          ]
        }
      ],
      "source": [
        "# Step 1: Hardcoding Variables\n",
        "# Demonstrate using predefined values.\n",
        "x = 10\n",
        "y = 20\n",
        "sum_result = x + y\n",
        "print(\"Hardcoding Variables: The sum of\", x, \"and\", y, \"is\", sum_result)"
      ]
    },
    {
      "cell_type": "markdown",
      "source": [],
      "metadata": {
        "id": "x1Enu8unPybw"
      }
    },
    {
      "cell_type": "markdown",
      "source": [
        "Keyboard Input"
      ],
      "metadata": {
        "id": "00bSAOGGP6xP"
      }
    },
    {
      "cell_type": "code",
      "source": [
        "# Step 2: Keyboard Input\n",
        "# Accept data from the user.\n",
        "user_input = input(\"Enter a number: \")\n",
        "try:\n",
        "    user_number = int(user_input)\n",
        "    print(\"Keyboard Input: You entered\", user_number)\n",
        "except ValueError:\n",
        "    print(\"Error: Please enter a valid integer.\")"
      ],
      "metadata": {
        "colab": {
          "base_uri": "https://localhost:8080/"
        },
        "id": "n2Na69vnMVyf",
        "outputId": "11050737-22e0-420b-ea2c-c5fa0e855e03"
      },
      "execution_count": 2,
      "outputs": [
        {
          "output_type": "stream",
          "name": "stdout",
          "text": [
            "Enter a number: 10\n",
            "Keyboard Input: You entered 10\n"
          ]
        }
      ]
    },
    {
      "cell_type": "markdown",
      "source": [
        "Read from a file(Single Input)"
      ],
      "metadata": {
        "id": "c3YyogCrQBw2"
      }
    },
    {
      "cell_type": "code",
      "source": [
        "# Step 3: Read from a File (Single Input)\n",
        "# Create a sample input file in Colab.\n",
        "file_name = \"single_input.txt\"\n",
        "with open(file_name, \"w\") as file:\n",
        "    file.write(\"42\\n\")\n",
        "\n",
        "# Read the single input from the file.\n",
        "try:\n",
        "    with open(file_name, \"r\") as file:\n",
        "        single_input = int(file.readline().strip())\n",
        "        print(\"Single Input from File:\", single_input)\n",
        "except FileNotFoundError:\n",
        "    print(\"Error: File not found.\")\n",
        "except ValueError:\n",
        "    print(\"Error: Invalid data in file.\")"
      ],
      "metadata": {
        "colab": {
          "base_uri": "https://localhost:8080/"
        },
        "id": "8IwZUH8FMeae",
        "outputId": "fad55bd9-a07b-4025-fd1b-d21141d99fa9"
      },
      "execution_count": 3,
      "outputs": [
        {
          "output_type": "stream",
          "name": "stdout",
          "text": [
            "Single Input from File: 42\n"
          ]
        }
      ]
    },
    {
      "cell_type": "markdown",
      "source": [
        "Read from a file (Multiple Input)"
      ],
      "metadata": {
        "id": "pKTUq5wTQHTV"
      }
    },
    {
      "cell_type": "code",
      "source": [
        "# Step 4: Read from a File (Multiple Inputs)\n",
        "# Create a sample file with multiple inputs in Colab.\n",
        "multiple_inputs_file = \"multiple_inputs.txt\"\n",
        "with open(multiple_inputs_file, \"w\") as file:\n",
        "    file.write(\"10\\n20\\n30\\n\")\n",
        "\n",
        "# Read and process multiple inputs from the file.\n",
        "try:\n",
        "    with open(multiple_inputs_file, \"r\") as file:\n",
        "        numbers = [int(line.strip()) for line in file.readlines()]\n",
        "        print(\"Multiple Inputs from File:\", numbers)\n",
        "        print(\"Sum of Numbers:\", sum(numbers))\n",
        "except FileNotFoundError:\n",
        "    print(\"Error: File not found.\")\n",
        "except ValueError:\n",
        "    print(\"Error: Invalid data in file.\")"
      ],
      "metadata": {
        "colab": {
          "base_uri": "https://localhost:8080/"
        },
        "id": "ELuinMNgMk0W",
        "outputId": "779debfe-3d8f-4ebd-e6a3-366d09b89a0c"
      },
      "execution_count": 4,
      "outputs": [
        {
          "output_type": "stream",
          "name": "stdout",
          "text": [
            "Multiple Inputs from File: [10, 20, 30]\n",
            "Sum of Numbers: 60\n"
          ]
        }
      ]
    }
  ]
}